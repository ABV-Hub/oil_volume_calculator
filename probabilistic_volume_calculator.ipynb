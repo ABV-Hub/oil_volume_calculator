{
 "cells": [
  {
   "cell_type": "markdown",
   "metadata": {},
   "source": [
    "<h1> This sheet caculates the preliminary volume of hydrocarbons during exploration</h1>"
   ]
  },
  {
   "cell_type": "markdown",
   "metadata": {},
   "source": [
    "<h4 style=font-family:\"times new roman\"> Please provide the following inputs for calculations:\n",
    "    <li> Gross-rock-volume GRV (km^3) \n",
    "    <li> Porosity (in 00.00 format as it is a percentage)\n",
    "    <li> Hydrocarbon saturation 1-Wi (in 00.00 format as it is a percentage)\n",
    "    <li> net-to-gross (in 00.00 format as it is a percentage)\n",
    "    <li> recovery factor (in 00.00 format as it is a percentage)\n",
    "    <li> Bo (formation volume factor = 1.05 + (N × 0.05), where N = number of ft3 of gas produced per bbl of oil (gas-oil ratio or GOR). For example, if a well has a GOR of 1,000, then Boi = 1.05 + (10 × 0.05) = 1.1)\n",
    "\n",
    "</h4>\n",
    "<h4> For calculation of gas volumes please add:\n",
    "    <li> Bg (in rcf/scf, usually it's between 0.003 and 0.01)\n",
    "</h4>"
   ]
  },
  {
   "cell_type": "markdown",
   "metadata": {},
   "source": [
    "<h5 style=font-weight: normal;> First, we import necessary libraries </h5>"
   ]
  },
  {
   "cell_type": "code",
   "execution_count": 1,
   "metadata": {},
   "outputs": [],
   "source": [
    "from scipy.stats import *\n",
    "import numpy as np\n",
    "import seaborn as sns\n",
    "import matplotlib.pyplot as plt"
   ]
  },
  {
   "cell_type": "markdown",
   "metadata": {},
   "source": [
    "<h2> Oil calculations"
   ]
  },
  {
   "cell_type": "markdown",
   "metadata": {},
   "source": [
    "<h4> You can extract GRV directly from the interpretation software, or use the area and thickness. Insert the mean and the standard variation of the data."
   ]
  },
  {
   "cell_type": "code",
   "execution_count": 2,
   "metadata": {},
   "outputs": [],
   "source": [
    "#iterations is the number of times you wish to run the simulation. The higher the better. Remember that higher numbers need more computing time.\n",
    "iterations = 1000\n",
    "\n",
    "#Area = norm(200,50).rvs(iterations)\n",
    "#Thickness = norm(100,25).rvs(iterations)\n",
    "\n",
    "GRV = norm(2, 0.5).rvs(iterations)\n",
    "POR = norm(.2,.03).rvs(iterations)\n",
    "HS = norm(.85,.2).rvs(iterations)\n",
    "NTG = norm(0.7,.2).rvs(iterations)\n",
    "RF = norm(0.4,.1).rvs(iterations)\n",
    "BO= norm(1.1,.0001).rvs(iterations)\n",
    "\n",
    "stoiip = 6.289814e+9*GRV*NTG*POR*HS*RF/BO * 0.000001\n",
    "\n"
   ]
  },
  {
   "cell_type": "code",
   "execution_count": 6,
   "metadata": {},
   "outputs": [
    {
     "data": {
      "image/png": "[encoded data removed]",
      "text/plain": [
       "<Figure size 432x288 with 1 Axes>"
      ]
     },
     "metadata": {
      "needs_background": "light"
     },
     "output_type": "display_data"
    },
    {
     "data": {
      "image/png": "[encoded data removed]",
      "text/plain": [
       "<Figure size 432x288 with 1 Axes>"
      ]
     },
     "metadata": {
      "needs_background": "light"
     },
     "output_type": "display_data"
    }
   ],
   "source": [
    "#plot1\n",
    "plot1=sns.distplot(stoiip, \n",
    "                   kde=True, \n",
    "                   norm_hist=True, \n",
    "                   #color='skyblue',\n",
    "                   #hist_kws={\"linewidth\": 15,'alpha':1}\n",
    "                  )\n",
    "plot1.set(xlabel='Normal Distribution', ylabel='Frequency')\n",
    "plt.figure()\n",
    "\n",
    "#plot2\n",
    "plot2=sns.distplot(stoiip,\n",
    "                   hist_kws=dict(cumulative=True),\n",
    "kde_kws=dict(cumulative=True))\n",
    "\n",
    "plot2.set(xlabel='STOIIP mmbbl', ylabel='probability')\n",
    "plot2.axhline(y=0.9, label='P10', color=\"red\")\n",
    "plot2.axhline(y=0.5, label='P50', color=\"red\")\n",
    "plot2.axhline(y=0.1, label='P90', color=\"red\")\n",
    "\n",
    "plt.show()"
   ]
  },
  {
   "cell_type": "code",
   "execution_count": null,
   "metadata": {},
   "outputs": [],
   "source": [
    "#to calculate the P90, P50 and P10 values (90%, 50% and 10% probabilities to have the specified volume):\n",
    "\n",
    "stoiip_sorted=np.sort(stoiip)\n",
    "x10=int(iterations/10*9)\n",
    "x50=int(iterations/2)\n",
    "x90=int(iterations/10)\n",
    "\n",
    "p10=stoiip_sorted[x10]\n",
    "p50=stoiip_sorted[x50]\n",
    "p90=stoiip_sorted[x90]\n",
    "\n",
    "print(\"P10 value is: \", p10, \"mmbbl\")\n",
    "print(\"P50 value is: \", p50, \"mmbbl\")\n",
    "print(\"P90 value is: \", p90, \"mmbbl\")\n"
   ]
  },
  {
   "cell_type": "markdown",
   "metadata": {},
   "source": [
    "<h2> Gas calculations"
   ]
  },
  {
   "cell_type": "code",
   "execution_count": null,
   "metadata": {},
   "outputs": [],
   "source": [
    "#iterations is the number of times you wish to run the simulation. The higher the better. Remember that higher numbers need more computing time.\n",
    "iterations = 10000\n",
    "#Area = norm(200,50).rvs(iterations)\n",
    "#Thickness = norm(100,25).rvs(iterations)\n",
    "GRV = norm(2, 0.5).rvs(iterations)\n",
    "POR = norm(.2,.03).rvs(iterations)\n",
    "GS = norm(.85,.2).rvs(iterations)\n",
    "NTG = norm(0.7,.2).rvs(iterations)\n",
    "RF = norm(0.4,.1).rvs(iterations)\n",
    "Bg= norm(0.003,.0002).rvs(iterations)\n",
    "\n",
    "#ogiip = 3.531467e10*GRV*NTG*POR*HS*RF/BO * 0.000000000001\n",
    "ogiip = 0.04*GRV*NTG*POR*GS*RF/Bg\n"
   ]
  },
  {
   "cell_type": "code",
   "execution_count": null,
   "metadata": {},
   "outputs": [],
   "source": [
    "#plot3\n",
    "plot3=sns.distplot(ogiip, \n",
    "                   kde=True, \n",
    "                   norm_hist=True, \n",
    "                   #color='skyblue',\n",
    "                   #hist_kws={\"linewidth\": 15,'alpha':1}\n",
    "                  )\n",
    "plot3.set(xlabel='Normal Distribution', ylabel='Frequency')\n",
    "plt.figure()\n",
    "\n",
    "#plot4\n",
    "plot4=sns.distplot(ogiip,\n",
    "                   hist_kws=dict(cumulative=True),\n",
    "kde_kws=dict(cumulative=True))\n",
    "\n",
    "plot4.set(xlabel='OGIIP tcf', ylabel='probability')\n",
    "plot4.axhline(y=0.9, label='P10', color=\"red\")\n",
    "plot4.axhline(y=0.5, label='P50', color=\"red\")\n",
    "plot4.axhline(y=0.1, label='P90', color=\"red\")\n",
    "\n",
    "#plot2.hlines(y=0.1, xmin=0, xmax=300, linestyles='dashed', label='P10', color=\"red\")\n",
    "\n",
    "\n",
    "#Axes.axvline(self, x=0, ymin=0, ymax=1, **kwargs)[source]\n",
    "plt.show()"
   ]
  },
  {
   "cell_type": "code",
   "execution_count": null,
   "metadata": {},
   "outputs": [],
   "source": [
    "ogiip_sorted=np.sort(ogiip)\n",
    "x10=int(iterations/10*9)\n",
    "x50=int(iterations/2)\n",
    "x90=int(iterations/10)\n",
    "\n",
    "p10=ogiip_sorted[x10]\n",
    "p50=ogiip_sorted[x50]\n",
    "p90=ogiip_sorted[x90]\n",
    "\n",
    "print(\"P10 value is: \", p10, \"tcf\")\n",
    "print(\"P50 value is: \", p50, \"tcf\")\n",
    "print(\"P90 value is: \", p90, \"tcf\")"
   ]
  }
 ],
 "metadata": {
  "kernelspec": {
   "display_name": "Python 3",
   "language": "python",
   "name": "python3"
  },
  "language_info": {
   "codemirror_mode": {
    "name": "ipython",
    "version": 3
   },
   "file_extension": ".py",
   "mimetype": "text/x-python",
   "name": "python",
   "nbconvert_exporter": "python",
   "pygments_lexer": "ipython3",
   "version": "3.7.6"
  }
 },
 "nbformat": 4,
 "nbformat_minor": 4
}
